{
  "nbformat": 4,
  "nbformat_minor": 0,
  "metadata": {
    "colab": {
      "name": "test3.ipynb",
      "provenance": [],
      "toc_visible": true,
      "authorship_tag": "ABX9TyM5BqrFs6OUcr5uHBUYuOE1",
      "include_colab_link": true
    },
    "kernelspec": {
      "name": "python3",
      "display_name": "Python 3"
    }
  },
  "cells": [
    {
      "cell_type": "markdown",
      "metadata": {
        "id": "view-in-github",
        "colab_type": "text"
      },
      "source": [
        "<a href=\"https://colab.research.google.com/github/aliostadi/first/blob/master/test3.ipynb\" target=\"_parent\"><img src=\"https://colab.research.google.com/assets/colab-badge.svg\" alt=\"Open In Colab\"/></a>"
      ]
    },
    {
      "cell_type": "code",
      "metadata": {
        "id": "22BE6AxAARI4"
      },
      "source": [
        "import pandas as pd"
      ],
      "execution_count": 1,
      "outputs": []
    },
    {
      "cell_type": "code",
      "metadata": {
        "id": "d8bmm5M4AZCl"
      },
      "source": [
        "from google.colab import drive"
      ],
      "execution_count": 2,
      "outputs": []
    },
    {
      "cell_type": "code",
      "metadata": {
        "colab": {
          "base_uri": "https://localhost:8080/"
        },
        "id": "vS72J09kAea2",
        "outputId": "5f4204f4-5fba-40d4-b965-3220225aaa5e"
      },
      "source": [
        "drive.mount('gdrive')"
      ],
      "execution_count": 3,
      "outputs": [
        {
          "output_type": "stream",
          "text": [
            "Mounted at gdrive\n"
          ],
          "name": "stdout"
        }
      ]
    },
    {
      "cell_type": "code",
      "metadata": {
        "id": "4RqjHjLDAjzN"
      },
      "source": [
        "df=pd.read_csv('/content/gdrive/MyDrive/Heart data.csv')"
      ],
      "execution_count": 4,
      "outputs": []
    },
    {
      "cell_type": "code",
      "metadata": {
        "colab": {
          "base_uri": "https://localhost:8080/"
        },
        "id": "jRmbMZtaBDZQ",
        "outputId": "cb1be6a2-75f5-4818-a6bc-b77743623b93"
      },
      "source": [
        "drive.mount('/content/drive')"
      ],
      "execution_count": 7,
      "outputs": [
        {
          "output_type": "stream",
          "text": [
            "Mounted at /content/drive\n"
          ],
          "name": "stdout"
        }
      ]
    },
    {
      "cell_type": "code",
      "metadata": {
        "colab": {
          "base_uri": "https://localhost:8080/"
        },
        "id": "QW52nd7xBOnt",
        "outputId": "5fc35ac1-1c71-44d0-bd0f-4c257924c1d3"
      },
      "source": [
        "%cd /content/drive/MyDrive/Colab Notebooks"
      ],
      "execution_count": 9,
      "outputs": [
        {
          "output_type": "stream",
          "text": [
            "/content/drive/MyDrive/Colab Notebooks\n"
          ],
          "name": "stdout"
        }
      ]
    },
    {
      "cell_type": "code",
      "metadata": {
        "colab": {
          "base_uri": "https://localhost:8080/"
        },
        "id": "dPOGtWnMB0WT",
        "outputId": "2e311f88-ca69-41c9-d3cf-7aef5494bd28"
      },
      "source": [
        "!ls '/content/drive/MyDrive/Colab Notebooks'"
      ],
      "execution_count": 10,
      "outputs": [
        {
          "output_type": "stream",
          "text": [
            " ARIMA.ipynb\n",
            " ARMA.ipynb\n",
            "'AR(p).ipynb'\n",
            "'artikel data using cnn and pca.ipynb'\n",
            "' artikel data using cnn .ipynb'\n",
            "'artikel data using lstm and pca.ipynb'\n",
            "'artikel data using lstm .ipynb'\n",
            "'Copy of artificial_neural_network.ipynb'\n",
            "'Copy of convolutional_neural_network.ipynb'\n",
            "'Copy of k_fold_cross_validation.ipynb'\n",
            "'Copy of VAR without pca.ipynb'\n",
            " day1.ipynb\n",
            " day2_loops.ipynb\n",
            " Day3.ipynb\n",
            " ِِDay4.ipynb\n",
            " Day5.ipynb\n",
            " Day6.ipynb\n",
            " Day7.ipynb\n",
            " Day8.ipynb\n",
            " Day9.ipynb\n",
            " dr.keshvarparast1.ipynb\n",
            " ffnn.ipynb\n",
            " GRU.ipynb\n",
            " heartData.gsheet\n",
            " IRNN.ipynb\n",
            " LSTM.ipynb\n",
            "'MA(q).ipynb'\n",
            "'multiple  input multivariate time series .ipynb'\n",
            "'Phase 2_Version 1.ipynb'\n",
            "'simple rnn .ipynb'\n",
            " test1.ipynb\n",
            " test3.ipynb\n",
            " Untitled0.ipynb\n",
            " Untitled1.ipynb\n",
            "'VAR without pca.ipynb'\n"
          ],
          "name": "stdout"
        }
      ]
    },
    {
      "cell_type": "code",
      "metadata": {
        "colab": {
          "base_uri": "https://localhost:8080/"
        },
        "id": "tUZ7MS51CCPi",
        "outputId": "08774b79-813b-48e5-b241-9482bfe828a8"
      },
      "source": [
        "!pip install import-ipynb\r\n",
        "import import_ipynb"
      ],
      "execution_count": 14,
      "outputs": [
        {
          "output_type": "stream",
          "text": [
            "Collecting import-ipynb\n",
            "  Downloading https://files.pythonhosted.org/packages/63/35/495e0021bfdcc924c7cdec4e9fbb87c88dd03b9b9b22419444dc370c8a45/import-ipynb-0.1.3.tar.gz\n",
            "Building wheels for collected packages: import-ipynb\n",
            "  Building wheel for import-ipynb (setup.py) ... \u001b[?25l\u001b[?25hdone\n",
            "  Created wheel for import-ipynb: filename=import_ipynb-0.1.3-cp36-none-any.whl size=2976 sha256=6c50a60a92ec8474fbaa22539ce3b193ecadc3a70274ad34ee0a11d40591f71c\n",
            "  Stored in directory: /root/.cache/pip/wheels/b4/7b/e9/a3a6e496115dffdb4e3085d0ae39ffe8a814eacc44bbf494b5\n",
            "Successfully built import-ipynb\n",
            "Installing collected packages: import-ipynb\n",
            "Successfully installed import-ipynb-0.1.3\n"
          ],
          "name": "stdout"
        }
      ]
    },
    {
      "cell_type": "code",
      "metadata": {
        "colab": {
          "base_uri": "https://localhost:8080/"
        },
        "id": "FEwrtDyoCHKq",
        "outputId": "88c36767-add3-499c-a4bb-d952ba83fb57"
      },
      "source": [
        "from test1 import *"
      ],
      "execution_count": 15,
      "outputs": [
        {
          "output_type": "stream",
          "text": [
            "importing Jupyter notebook from test1.ipynb\n"
          ],
          "name": "stdout"
        }
      ]
    },
    {
      "cell_type": "code",
      "metadata": {
        "colab": {
          "base_uri": "https://localhost:8080/",
          "height": 479
        },
        "id": "zBhzixXbDd_b",
        "outputId": "ee9334f7-a831-4465-93ad-b37470cad51d"
      },
      "source": [
        "df=dataformat(df)\r\n",
        "df"
      ],
      "execution_count": 16,
      "outputs": [
        {
          "output_type": "execute_result",
          "data": {
            "text/html": [
              "<div>\n",
              "<style scoped>\n",
              "    .dataframe tbody tr th:only-of-type {\n",
              "        vertical-align: middle;\n",
              "    }\n",
              "\n",
              "    .dataframe tbody tr th {\n",
              "        vertical-align: top;\n",
              "    }\n",
              "\n",
              "    .dataframe thead th {\n",
              "        text-align: right;\n",
              "    }\n",
              "</style>\n",
              "<table border=\"1\" class=\"dataframe\">\n",
              "  <thead>\n",
              "    <tr style=\"text-align: right;\">\n",
              "      <th></th>\n",
              "      <th>Age (age in year)</th>\n",
              "      <th>sex</th>\n",
              "      <th>chest pain</th>\n",
              "      <th>blood pressure</th>\n",
              "      <th>cholestoral</th>\n",
              "      <th>blood sugar</th>\n",
              "      <th>electrocardiographic</th>\n",
              "      <th>heart rate</th>\n",
              "      <th>exercise induced</th>\n",
              "      <th>depression</th>\n",
              "      <th>slope</th>\n",
              "      <th>ca</th>\n",
              "    </tr>\n",
              "  </thead>\n",
              "  <tbody>\n",
              "    <tr>\n",
              "      <th>0</th>\n",
              "      <td>63</td>\n",
              "      <td>1</td>\n",
              "      <td>1</td>\n",
              "      <td>145.0</td>\n",
              "      <td>233.0</td>\n",
              "      <td>1.0</td>\n",
              "      <td>2.0</td>\n",
              "      <td>150.0</td>\n",
              "      <td>0.0</td>\n",
              "      <td>2.3</td>\n",
              "      <td>3.0</td>\n",
              "      <td>0.0</td>\n",
              "    </tr>\n",
              "    <tr>\n",
              "      <th>1</th>\n",
              "      <td>37</td>\n",
              "      <td>1</td>\n",
              "      <td>3</td>\n",
              "      <td>130.0</td>\n",
              "      <td>250.0</td>\n",
              "      <td>0.0</td>\n",
              "      <td>0.0</td>\n",
              "      <td>187.0</td>\n",
              "      <td>0.0</td>\n",
              "      <td>3.5</td>\n",
              "      <td>3.0</td>\n",
              "      <td>0.0</td>\n",
              "    </tr>\n",
              "    <tr>\n",
              "      <th>2</th>\n",
              "      <td>41</td>\n",
              "      <td>0</td>\n",
              "      <td>2</td>\n",
              "      <td>130.0</td>\n",
              "      <td>204.0</td>\n",
              "      <td>0.0</td>\n",
              "      <td>2.0</td>\n",
              "      <td>172.0</td>\n",
              "      <td>0.0</td>\n",
              "      <td>1.4</td>\n",
              "      <td>1.0</td>\n",
              "      <td>0.0</td>\n",
              "    </tr>\n",
              "    <tr>\n",
              "      <th>3</th>\n",
              "      <td>56</td>\n",
              "      <td>1</td>\n",
              "      <td>2</td>\n",
              "      <td>120.0</td>\n",
              "      <td>236.0</td>\n",
              "      <td>0.0</td>\n",
              "      <td>0.0</td>\n",
              "      <td>178.0</td>\n",
              "      <td>0.0</td>\n",
              "      <td>0.8</td>\n",
              "      <td>1.0</td>\n",
              "      <td>0.0</td>\n",
              "    </tr>\n",
              "    <tr>\n",
              "      <th>4</th>\n",
              "      <td>57</td>\n",
              "      <td>0</td>\n",
              "      <td>4</td>\n",
              "      <td>120.0</td>\n",
              "      <td>354.0</td>\n",
              "      <td>0.0</td>\n",
              "      <td>0.0</td>\n",
              "      <td>163.0</td>\n",
              "      <td>1.0</td>\n",
              "      <td>0.6</td>\n",
              "      <td>1.0</td>\n",
              "      <td>0.0</td>\n",
              "    </tr>\n",
              "    <tr>\n",
              "      <th>...</th>\n",
              "      <td>...</td>\n",
              "      <td>...</td>\n",
              "      <td>...</td>\n",
              "      <td>...</td>\n",
              "      <td>...</td>\n",
              "      <td>...</td>\n",
              "      <td>...</td>\n",
              "      <td>...</td>\n",
              "      <td>...</td>\n",
              "      <td>...</td>\n",
              "      <td>...</td>\n",
              "      <td>...</td>\n",
              "    </tr>\n",
              "    <tr>\n",
              "      <th>592</th>\n",
              "      <td>52</td>\n",
              "      <td>1</td>\n",
              "      <td>4</td>\n",
              "      <td>140.0</td>\n",
              "      <td>266.0</td>\n",
              "      <td>0.0</td>\n",
              "      <td>0.0</td>\n",
              "      <td>134.0</td>\n",
              "      <td>1.0</td>\n",
              "      <td>2.0</td>\n",
              "      <td>2.0</td>\n",
              "      <td>NaN</td>\n",
              "    </tr>\n",
              "    <tr>\n",
              "      <th>593</th>\n",
              "      <td>43</td>\n",
              "      <td>1</td>\n",
              "      <td>4</td>\n",
              "      <td>140.0</td>\n",
              "      <td>288.0</td>\n",
              "      <td>0.0</td>\n",
              "      <td>0.0</td>\n",
              "      <td>135.0</td>\n",
              "      <td>1.0</td>\n",
              "      <td>2.0</td>\n",
              "      <td>2.0</td>\n",
              "      <td>NaN</td>\n",
              "    </tr>\n",
              "    <tr>\n",
              "      <th>594</th>\n",
              "      <td>41</td>\n",
              "      <td>1</td>\n",
              "      <td>4</td>\n",
              "      <td>120.0</td>\n",
              "      <td>336.0</td>\n",
              "      <td>0.0</td>\n",
              "      <td>0.0</td>\n",
              "      <td>118.0</td>\n",
              "      <td>1.0</td>\n",
              "      <td>3.0</td>\n",
              "      <td>2.0</td>\n",
              "      <td>NaN</td>\n",
              "    </tr>\n",
              "    <tr>\n",
              "      <th>595</th>\n",
              "      <td>44</td>\n",
              "      <td>1</td>\n",
              "      <td>4</td>\n",
              "      <td>135.0</td>\n",
              "      <td>491.0</td>\n",
              "      <td>0.0</td>\n",
              "      <td>0.0</td>\n",
              "      <td>135.0</td>\n",
              "      <td>0.0</td>\n",
              "      <td>0.0</td>\n",
              "      <td>NaN</td>\n",
              "      <td>NaN</td>\n",
              "    </tr>\n",
              "    <tr>\n",
              "      <th>596</th>\n",
              "      <td>49</td>\n",
              "      <td>1</td>\n",
              "      <td>4</td>\n",
              "      <td>150.0</td>\n",
              "      <td>222.0</td>\n",
              "      <td>0.0</td>\n",
              "      <td>0.0</td>\n",
              "      <td>122.0</td>\n",
              "      <td>0.0</td>\n",
              "      <td>2.0</td>\n",
              "      <td>2.0</td>\n",
              "      <td>NaN</td>\n",
              "    </tr>\n",
              "  </tbody>\n",
              "</table>\n",
              "<p>597 rows × 12 columns</p>\n",
              "</div>"
            ],
            "text/plain": [
              "     Age (age in year)  sex  chest pain  ...  depression   slope   ca\n",
              "0                   63    1           1  ...          2.3    3.0  0.0\n",
              "1                   37    1           3  ...          3.5    3.0  0.0\n",
              "2                   41    0           2  ...          1.4    1.0  0.0\n",
              "3                   56    1           2  ...          0.8    1.0  0.0\n",
              "4                   57    0           4  ...          0.6    1.0  0.0\n",
              "..                 ...  ...         ...  ...          ...    ...  ...\n",
              "592                 52    1           4  ...          2.0    2.0  NaN\n",
              "593                 43    1           4  ...          2.0    2.0  NaN\n",
              "594                 41    1           4  ...          3.0    2.0  NaN\n",
              "595                 44    1           4  ...          0.0    NaN  NaN\n",
              "596                 49    1           4  ...          2.0    2.0  NaN\n",
              "\n",
              "[597 rows x 12 columns]"
            ]
          },
          "metadata": {
            "tags": []
          },
          "execution_count": 16
        }
      ]
    },
    {
      "cell_type": "code",
      "metadata": {
        "id": "ymj9_7_8Djgn"
      },
      "source": [
        ""
      ],
      "execution_count": null,
      "outputs": []
    }
  ]
}